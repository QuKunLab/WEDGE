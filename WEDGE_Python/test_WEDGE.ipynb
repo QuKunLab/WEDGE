{
 "metadata": {
  "language_info": {
   "codemirror_mode": {
    "name": "ipython",
    "version": 3
   },
   "file_extension": ".py",
   "mimetype": "text/x-python",
   "name": "python",
   "nbconvert_exporter": "python",
   "pygments_lexer": "ipython3",
   "version": "3.7.9-final"
  },
  "orig_nbformat": 2,
  "kernelspec": {
   "name": "python3",
   "display_name": "Python 3",
   "language": "python"
  }
 },
 "nbformat": 4,
 "nbformat_minor": 2,
 "cells": [
  {
   "cell_type": "code",
   "execution_count": null,
   "metadata": {},
   "outputs": [],
   "source": [
    "import WEDGE"
   ]
  },
  {
   "cell_type": "code",
   "execution_count": null,
   "metadata": {},
   "outputs": [],
   "source": [
    "'''\n",
    "Main parameter description:\n",
    "\n",
    "input_path: the dir of gene expression matrix. n_gene x n_cell. If input file is 10x-Genomics-formatted mtx directory, `input_path` must end with `/`, for example input_path= './Data/amount/'\n",
    "\n",
    "output_path: Defaults to './WEDGE_res/'.\n",
    "\n",
    "output_format: the saver format of recovery data. there are two options, 'W_H' and '',  if you set output_format = 'W_H', the output is W and H, the recovery data is equal to W*H; the default is output_format = ''; save recovery data as WEDGE_recovery.csv, rows is genes and columns is cells..\n",
    "\n",
    "normalization: if normalization = 0, WEDGE do not normalize data. default, normalization = 1, WEDGE normalizes the total expression of each cell to 10,000 and performs log-transform after adding a pseudocount of 1.\n",
    "\n",
    "recovery_fileName: Defaults to 'WEDGE_recovery.csv'.\n",
    "\n",
    "options: Defaults to {}.\n",
    "# options['n_rank'] : A positive integer, the rank of gene expression matrix; if don't set this value, WEDGE will       automatically estimate the rank of matrix， otherwise, WEDGE will use the value set by the user.\n",
    "# options['lambda']: the weights of  Zero elements;  default lambda = 0.15\n",
    "# options['max_iters']: the maximum number of iterations for solving biased low-rank factorization;\n",
    "# options['tolx'] the change value of object function when iter is convergence;"
   ]
  },
  {
   "source": [
    "test = WEDGE.WEDGE(input_path=\"../Data/Baron/Observed.csv\", output_format='')"
   ],
   "cell_type": "code",
   "metadata": {},
   "execution_count": null,
   "outputs": []
  },
  {
   "cell_type": "code",
   "execution_count": null,
   "metadata": {},
   "outputs": [],
   "source": [
    "test.WEDGE_recovery()"
   ]
  },
  {
   "cell_type": "code",
   "execution_count": null,
   "metadata": {},
   "outputs": [],
   "source": []
  }
 ]
}